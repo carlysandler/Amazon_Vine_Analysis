{
  "nbformat": 4,
  "nbformat_minor": 0,
  "metadata": {
    "colab": {
      "name": "Vine_Review_Analysis.ipynb",
      "provenance": [],
      "collapsed_sections": [],
      "authorship_tag": "ABX9TyNP5AUCDsD+mb3hds1n2WCM",
      "include_colab_link": true
    },
    "kernelspec": {
      "name": "python3",
      "display_name": "Python 3"
    },
    "language_info": {
      "name": "python"
    }
  },
  "cells": [
    {
      "cell_type": "markdown",
      "metadata": {
        "id": "view-in-github",
        "colab_type": "text"
      },
      "source": [
        "<a href=\"https://colab.research.google.com/github/carlysandler/Amazon_Vine_Analysis/blob/main/Vine_Review_Analysis.ipynb\" target=\"_parent\"><img src=\"https://colab.research.google.com/assets/colab-badge.svg\" alt=\"Open In Colab\"/></a>"
      ]
    },
    {
      "cell_type": "markdown",
      "metadata": {
        "id": "KZjXrH-mPBvq"
      },
      "source": [
        "\n",
        "# Deliverable 2: Challenge Code\n",
        "## Vine Review Analysis (Bias Determination)"
      ]
    },
    {
      "cell_type": "code",
      "metadata": {
        "colab": {
          "base_uri": "https://localhost:8080/"
        },
        "id": "pOeZYe0xPVhU",
        "outputId": "92cb78ee-3f80-4317-fbb1-49b5a9da6adc"
      },
      "source": [
        "import os\n",
        "# Find the latest version of spark 2.0  from http://www-us.apache.org/dist/spark/ and enter as the spark version\n",
        "# For example:\n",
        "# spark_version = 'spark-3.0.0'\n",
        "spark_version = 'spark-3.0.2'\n",
        "os.environ['SPARK_VERSION']=spark_version\n",
        "\n",
        "# Install Spark and Java\n",
        "!apt-get update\n",
        "!apt-get install openjdk-11-jdk-headless -qq > /dev/null\n",
        "!wget -q http://www-us.apache.org/dist/spark/$SPARK_VERSION/$SPARK_VERSION-bin-hadoop2.7.tgz\n",
        "!tar xf $SPARK_VERSION-bin-hadoop2.7.tgz\n",
        "!pip install -q findspark\n",
        "\n",
        "# Set Environment Variables\n",
        "import os\n",
        "os.environ[\"JAVA_HOME\"] = \"/usr/lib/jvm/java-11-openjdk-amd64\"\n",
        "os.environ[\"SPARK_HOME\"] = f\"/content/{spark_version}-bin-hadoop2.7\"\n",
        "\n",
        "# Start a SparkSession\n",
        "import findspark\n",
        "findspark.init()"
      ],
      "execution_count": 1,
      "outputs": [
        {
          "output_type": "stream",
          "text": [
            "Get:1 https://cloud.r-project.org/bin/linux/ubuntu bionic-cran40/ InRelease [3,626 B]\n",
            "Ign:2 https://developer.download.nvidia.com/compute/cuda/repos/ubuntu1804/x86_64  InRelease\n",
            "Get:3 http://security.ubuntu.com/ubuntu bionic-security InRelease [88.7 kB]\n",
            "Get:4 http://ppa.launchpad.net/c2d4u.team/c2d4u4.0+/ubuntu bionic InRelease [15.9 kB]\n",
            "Ign:5 https://developer.download.nvidia.com/compute/machine-learning/repos/ubuntu1804/x86_64  InRelease\n",
            "Get:6 https://developer.download.nvidia.com/compute/cuda/repos/ubuntu1804/x86_64  Release [697 B]\n",
            "Hit:7 https://developer.download.nvidia.com/compute/machine-learning/repos/ubuntu1804/x86_64  Release\n",
            "Get:8 https://developer.download.nvidia.com/compute/cuda/repos/ubuntu1804/x86_64  Release.gpg [836 B]\n",
            "Hit:9 http://archive.ubuntu.com/ubuntu bionic InRelease\n",
            "Get:11 http://archive.ubuntu.com/ubuntu bionic-updates InRelease [88.7 kB]\n",
            "Ign:12 https://developer.download.nvidia.com/compute/cuda/repos/ubuntu1804/x86_64  Packages\n",
            "Get:12 https://developer.download.nvidia.com/compute/cuda/repos/ubuntu1804/x86_64  Packages [800 kB]\n",
            "Hit:13 http://ppa.launchpad.net/cran/libgit2/ubuntu bionic InRelease\n",
            "Get:14 http://ppa.launchpad.net/deadsnakes/ppa/ubuntu bionic InRelease [15.9 kB]\n",
            "Get:15 http://archive.ubuntu.com/ubuntu bionic-backports InRelease [74.6 kB]\n",
            "Get:16 http://security.ubuntu.com/ubuntu bionic-security/restricted amd64 Packages [450 kB]\n",
            "Get:17 http://archive.ubuntu.com/ubuntu bionic-updates/multiverse amd64 Packages [33.5 kB]\n",
            "Hit:18 http://ppa.launchpad.net/graphics-drivers/ppa/ubuntu bionic InRelease\n",
            "Get:19 http://archive.ubuntu.com/ubuntu bionic-updates/restricted amd64 Packages [480 kB]\n",
            "Get:20 http://security.ubuntu.com/ubuntu bionic-security/universe amd64 Packages [1,414 kB]\n",
            "Get:21 http://ppa.launchpad.net/c2d4u.team/c2d4u4.0+/ubuntu bionic/main Sources [1,770 kB]\n",
            "Get:22 http://security.ubuntu.com/ubuntu bionic-security/main amd64 Packages [2,184 kB]\n",
            "Get:23 http://archive.ubuntu.com/ubuntu bionic-updates/main amd64 Packages [2,616 kB]\n",
            "Get:24 http://archive.ubuntu.com/ubuntu bionic-updates/universe amd64 Packages [2,184 kB]\n",
            "Get:25 http://ppa.launchpad.net/c2d4u.team/c2d4u4.0+/ubuntu bionic/main amd64 Packages [906 kB]\n",
            "Get:26 http://ppa.launchpad.net/deadsnakes/ppa/ubuntu bionic/main amd64 Packages [40.9 kB]\n",
            "Fetched 13.2 MB in 7s (1,821 kB/s)\n",
            "Reading package lists... Done\n"
          ],
          "name": "stdout"
        }
      ]
    },
    {
      "cell_type": "code",
      "metadata": {
        "colab": {
          "base_uri": "https://localhost:8080/"
        },
        "id": "Jf-asQiRP6xW",
        "outputId": "e316dea5-ec6b-4d3a-ceb2-7ef60d5af328"
      },
      "source": [
        "# Download the Postgres driver that will allow Spark to interact with Postgres.\n",
        "!wget https://jdbc.postgresql.org/download/postgresql-42.2.16.jar"
      ],
      "execution_count": 2,
      "outputs": [
        {
          "output_type": "stream",
          "text": [
            "--2021-06-08 14:16:26--  https://jdbc.postgresql.org/download/postgresql-42.2.16.jar\n",
            "Resolving jdbc.postgresql.org (jdbc.postgresql.org)... 72.32.157.228, 2001:4800:3e1:1::228\n",
            "Connecting to jdbc.postgresql.org (jdbc.postgresql.org)|72.32.157.228|:443... connected.\n",
            "HTTP request sent, awaiting response... 200 OK\n",
            "Length: 1002883 (979K) [application/java-archive]\n",
            "Saving to: ‘postgresql-42.2.16.jar’\n",
            "\n",
            "postgresql-42.2.16. 100%[===================>] 979.38K  1.21MB/s    in 0.8s    \n",
            "\n",
            "2021-06-08 14:16:28 (1.21 MB/s) - ‘postgresql-42.2.16.jar’ saved [1002883/1002883]\n",
            "\n"
          ],
          "name": "stdout"
        }
      ]
    },
    {
      "cell_type": "code",
      "metadata": {
        "id": "gE1fvGWmQNa_"
      },
      "source": [
        "from pyspark.sql import SparkSession\n",
        "spark = SparkSession.builder.appName(\"BigData-Challenge2\").config(\"spark.driver.extraClassPath\",\"/content/postgresql-42.2.16.jar\").getOrCreate()"
      ],
      "execution_count": 3,
      "outputs": []
    },
    {
      "cell_type": "code",
      "metadata": {
        "id": "n83Ju911Q-WX",
        "colab": {
          "base_uri": "https://localhost:8080/"
        },
        "outputId": "7997580f-895c-4d69-a615-92b45005b4c5"
      },
      "source": [
        "from pyspark import SparkFiles\n",
        "url = \"https://s3.amazonaws.com/amazon-reviews-pds/tsv/amazon_reviews_us_Apparel_v1_00.tsv.gz\"\n",
        "spark.sparkContext.addFile(url)\n",
        "df = spark.read.option(\"encoding\", \"UTF-8\").csv(SparkFiles.get(\"\"), sep=\"\\t\", header=True, inferSchema=True)\n",
        "df.show()"
      ],
      "execution_count": 4,
      "outputs": [
        {
          "output_type": "stream",
          "text": [
            "+-----------+-----------+--------------+----------+--------------+--------------------+----------------+-----------+-------------+-----------+----+-----------------+--------------------+--------------------+-----------+\n",
            "|marketplace|customer_id|     review_id|product_id|product_parent|       product_title|product_category|star_rating|helpful_votes|total_votes|vine|verified_purchase|     review_headline|         review_body|review_date|\n",
            "+-----------+-----------+--------------+----------+--------------+--------------------+----------------+-----------+-------------+-----------+----+-----------------+--------------------+--------------------+-----------+\n",
            "|         US|   32158956|R1KKOXHNI8MSXU|B01KL6O72Y|      24485154|Easy Tool Stainle...|         Apparel|          4|            0|          0|   N|                Y|★ THESE REALLY DO...|These Really Do W...| 2013-01-14|\n",
            "|         US|    2714559|R26SP2OPDK4HT7|B01ID3ZS5W|     363128556|V28 Women Cowl Ne...|         Apparel|          5|            1|          2|   N|                Y|Favorite for wint...|I love this dress...| 2014-03-04|\n",
            "|         US|   12608825| RWQEDYAX373I1|B01I497BGY|     811958549|James Fiallo Men'...|         Apparel|          5|            0|          0|   N|                Y|Great Socks for t...|Nice socks, great...| 2015-07-12|\n",
            "|         US|   25482800|R231YI7R4GPF6J|B01HDXFZK6|     692205728|Belfry Gangster 1...|         Apparel|          5|            0|          0|   N|                Y|          Slick hat!|I bought this for...| 2015-06-03|\n",
            "|         US|    9310286|R3KO3W45DD0L1K|B01G6MBEBY|     431150422|JAEDEN Women's Be...|         Apparel|          5|            0|          0|   N|                Y|I would do it again!|Perfect dress and...| 2015-06-12|\n",
            "|         US|   26631939|R1C4QH63NFL5NJ|B01FWRXN0Y|     366144407|Levi's Boys' 514 ...|         Apparel|          5|            0|          0|   N|                Y|          Five Stars|Excellent for my ...| 2014-04-22|\n",
            "|         US|   48785098|R2GP65O1U9N7BP|B01EXNH1HE|     786052021|Minimalist Wallet...|         Apparel|          5|            0|          0|   N|                Y|            Love it!|Raw is the only w...| 2015-07-28|\n",
            "|         US|   39548589|R3O29CT5MQQ3XQ|B01E7OL09O|     108920964|Harriton Men's Ba...|         Apparel|          4|            0|          0|   N|                Y|         Three Stars|        A bit large.| 2015-07-10|\n",
            "|         US|   29355866|R1ZECD2AA8QFF6|B01DXHX81O|     317132458|Jockey Women's Un...|         Apparel|          5|            0|          0|   N|                Y|          Five Stars|          Great fit!| 2015-08-09|\n",
            "|         US|   27477484|R2S79GCF6J89OA|B01DDULIJK|     110598191|Alexander Del Ros...|         Apparel|          3|            0|          0|   N|                Y|    Not my favorite.|Shirt a bit too l...| 2014-05-24|\n",
            "|         US|   17685865|R1CBCUGNP37MPK|B01BOKOL4A|     121408017|Jockey Women's Un...|         Apparel|          5|            0|          0|   N|                Y|The Jockey Women'...|The Jockey Women'...| 2015-06-10|\n",
            "|         US|   19787539|R3NU4WUR5ZNV1V|B01B3Q4Q0O|     134506082|Bali Passion For ...|         Apparel|          5|            0|          0|   N|                Y|          Five Stars|cup size is just ...| 2013-09-06|\n",
            "|         US|   44196725|R32EPCJ3XF8LGE|B01ADDSL9U|     747539045|Lilyette Women's ...|         Apparel|          5|            0|          0|   N|                Y|          Five Stars|          Perfect...| 2014-11-17|\n",
            "|         US|   45510794|R1XIBC6WQBW31M|B019P1X5XI|     696379847|Vanity Fair Women...|         Apparel|          5|            0|          0|   N|                Y|best ever4 for me...|best  ever4 for m...| 2013-05-12|\n",
            "|         US|   42025740|R1P11MVDZ65LMH|B019MDXIXG|     387286513|Warner's Women's ...|         Apparel|          5|            0|          0|   N|                Y|          Five Stars|          Great fit.| 2014-02-14|\n",
            "|         US|   27097189|R1OJA3DJL0VDDK|B019438FEG|     764190574|Columbia Women's ...|         Apparel|          5|            0|          0|   N|                Y|          Five Stars|I have this Colum...| 2014-10-20|\n",
            "|         US|   13808904|R1THWA5YRJLOOF|B0178HGNIA|     816266887|Robes King RK Cla...|         Apparel|          4|            0|          0|   N|                Y|          Four Stars|My husband found ...| 2015-07-05|\n",
            "|         US|   30225894| R738LCNRSJVXP|B016VIU0QI|     323924698|VIV Collection Be...|         Apparel|          5|            6|          7|   N|                Y|   Awesome leggings!|Awesome leggings!...| 2015-07-29|\n",
            "|         US|   45223824|R1N3Z13931J3O9|B016PUU3VO|     893588059|Fruit of the Loom...|         Apparel|          2|            0|          0|   N|                Y|Sizes not correct...|I ordered the sam...| 2015-01-01|\n",
            "|         US|   22300783|R1LBNTP7E8N89Z|B016AQNDM4|     917361125|Jockey Scrubs Wom...|         Apparel|          1|            0|          0|   N|                Y|            One Star| not exact in sizing| 2015-02-12|\n",
            "+-----------+-----------+--------------+----------+--------------+--------------------+----------------+-----------+-------------+-----------+----+-----------------+--------------------+--------------------+-----------+\n",
            "only showing top 20 rows\n",
            "\n"
          ],
          "name": "stdout"
        }
      ]
    },
    {
      "cell_type": "code",
      "metadata": {
        "colab": {
          "base_uri": "https://localhost:8080/"
        },
        "id": "menkf3jUaxHd",
        "outputId": "67d382a6-0855-4c88-de7c-bfa27f8297c2"
      },
      "source": [
        "# Recreating vine_table dataframe  from Deliverable 1\n",
        "vine_df = df.select(['review_id', 'star_rating', 'helpful_votes', 'total_votes', 'vine', 'verified_purchase'])\n",
        "vine_df.show()"
      ],
      "execution_count": 5,
      "outputs": [
        {
          "output_type": "stream",
          "text": [
            "+--------------+-----------+-------------+-----------+----+-----------------+\n",
            "|     review_id|star_rating|helpful_votes|total_votes|vine|verified_purchase|\n",
            "+--------------+-----------+-------------+-----------+----+-----------------+\n",
            "|R1KKOXHNI8MSXU|          4|            0|          0|   N|                Y|\n",
            "|R26SP2OPDK4HT7|          5|            1|          2|   N|                Y|\n",
            "| RWQEDYAX373I1|          5|            0|          0|   N|                Y|\n",
            "|R231YI7R4GPF6J|          5|            0|          0|   N|                Y|\n",
            "|R3KO3W45DD0L1K|          5|            0|          0|   N|                Y|\n",
            "|R1C4QH63NFL5NJ|          5|            0|          0|   N|                Y|\n",
            "|R2GP65O1U9N7BP|          5|            0|          0|   N|                Y|\n",
            "|R3O29CT5MQQ3XQ|          4|            0|          0|   N|                Y|\n",
            "|R1ZECD2AA8QFF6|          5|            0|          0|   N|                Y|\n",
            "|R2S79GCF6J89OA|          3|            0|          0|   N|                Y|\n",
            "|R1CBCUGNP37MPK|          5|            0|          0|   N|                Y|\n",
            "|R3NU4WUR5ZNV1V|          5|            0|          0|   N|                Y|\n",
            "|R32EPCJ3XF8LGE|          5|            0|          0|   N|                Y|\n",
            "|R1XIBC6WQBW31M|          5|            0|          0|   N|                Y|\n",
            "|R1P11MVDZ65LMH|          5|            0|          0|   N|                Y|\n",
            "|R1OJA3DJL0VDDK|          5|            0|          0|   N|                Y|\n",
            "|R1THWA5YRJLOOF|          4|            0|          0|   N|                Y|\n",
            "| R738LCNRSJVXP|          5|            6|          7|   N|                Y|\n",
            "|R1N3Z13931J3O9|          2|            0|          0|   N|                Y|\n",
            "|R1LBNTP7E8N89Z|          1|            0|          0|   N|                Y|\n",
            "+--------------+-----------+-------------+-----------+----+-----------------+\n",
            "only showing top 20 rows\n",
            "\n"
          ],
          "name": "stdout"
        }
      ]
    },
    {
      "cell_type": "code",
      "metadata": {
        "id": "gX6uGgYUQ-is",
        "colab": {
          "base_uri": "https://localhost:8080/"
        },
        "outputId": "fde66791-ccb3-4577-ab6b-bbf9415691da"
      },
      "source": [
        "# Filter dataframe to narrow in on helpful reviews (total_votes >= 20)\n",
        "filtered_df = vine_df.filter(\"total_votes>=20\")\n",
        "filtered_df.show()"
      ],
      "execution_count": 6,
      "outputs": [
        {
          "output_type": "stream",
          "text": [
            "+--------------+-----------+-------------+-----------+----+-----------------+\n",
            "|     review_id|star_rating|helpful_votes|total_votes|vine|verified_purchase|\n",
            "+--------------+-----------+-------------+-----------+----+-----------------+\n",
            "|R35PT06NWP7LDP|          5|           30|         32|   N|                N|\n",
            "|R2P76PJFUGXBHO|          1|            6|         45|   N|                N|\n",
            "| RQW4AFOG9MR4Z|          5|           51|         52|   N|                N|\n",
            "|R2SMUEBMGLAJQK|          5|           29|         36|   N|                Y|\n",
            "|R1XVIZZALU5P6J|          5|          148|        150|   N|                Y|\n",
            "|R11UFMG8M2488I|          4|           23|         26|   N|                N|\n",
            "|R2OSHKSPXU68W5|          5|          136|        147|   N|                N|\n",
            "|R3M02FSD3BLUPU|          5|           19|         21|   N|                N|\n",
            "|R1P0LEEJHH09L3|          5|           32|         32|   N|                Y|\n",
            "|R1V6UU1EHW3Q12|          5|           57|         62|   N|                Y|\n",
            "|R230W87COFSTCL|          5|           21|         21|   N|                Y|\n",
            "|R156HBTMUSEM88|          5|           48|         49|   N|                Y|\n",
            "|R2X1UHSW9KUBES|          5|           22|         22|   N|                Y|\n",
            "| RO32P11MHPMI3|          5|           24|         24|   N|                Y|\n",
            "|R2WN1VOTG9IK98|          1|            0|         22|   N|                Y|\n",
            "|R1Y8ARYNAB7PC0|          5|           19|         20|   N|                N|\n",
            "|R1QSB09EOREALQ|          4|           29|         32|   N|                Y|\n",
            "|R1BQ8BDCIV9ONZ|          5|           44|         50|   N|                Y|\n",
            "|R18638HIUF6XNR|          3|           22|         23|   N|                N|\n",
            "|  R1EHNRX9BMLK|          5|           19|         20|   N|                Y|\n",
            "+--------------+-----------+-------------+-----------+----+-----------------+\n",
            "only showing top 20 rows\n",
            "\n"
          ],
          "name": "stdout"
        }
      ]
    },
    {
      "cell_type": "code",
      "metadata": {
        "id": "3C_dEANHw8z9"
      },
      "source": [
        "from pyspark.sql.types import FloatType\n",
        "filtered_float_df = filtered_df.withColumn('helpful_votes', filtered_df['helpful_votes'].cast(FloatType()))\n",
        "filtered_float_df = filtered_df.withColumn('total_votes', filtered_df['total_votes'].cast(FloatType()))"
      ],
      "execution_count": 7,
      "outputs": []
    },
    {
      "cell_type": "code",
      "metadata": {
        "id": "88OrWZyxQ-lb",
        "colab": {
          "base_uri": "https://localhost:8080/"
        },
        "outputId": "cc41cabc-e523-401b-e596-a6fcf6652bd0"
      },
      "source": [
        "# Filter new dataframe further (select only rows where the % of helpful_votes/total_votes => 50%)\n",
        "helpful_df = filtered_float_df.filter(\"helpful_votes/total_votes >= .50\")\n",
        "helpful_df.show()"
      ],
      "execution_count": 8,
      "outputs": [
        {
          "output_type": "stream",
          "text": [
            "+--------------+-----------+-------------+-----------+----+-----------------+\n",
            "|     review_id|star_rating|helpful_votes|total_votes|vine|verified_purchase|\n",
            "+--------------+-----------+-------------+-----------+----+-----------------+\n",
            "|R35PT06NWP7LDP|          5|           30|       32.0|   N|                N|\n",
            "| RQW4AFOG9MR4Z|          5|           51|       52.0|   N|                N|\n",
            "|R2SMUEBMGLAJQK|          5|           29|       36.0|   N|                Y|\n",
            "|R1XVIZZALU5P6J|          5|          148|      150.0|   N|                Y|\n",
            "|R11UFMG8M2488I|          4|           23|       26.0|   N|                N|\n",
            "|R2OSHKSPXU68W5|          5|          136|      147.0|   N|                N|\n",
            "|R3M02FSD3BLUPU|          5|           19|       21.0|   N|                N|\n",
            "|R1P0LEEJHH09L3|          5|           32|       32.0|   N|                Y|\n",
            "|R1V6UU1EHW3Q12|          5|           57|       62.0|   N|                Y|\n",
            "|R230W87COFSTCL|          5|           21|       21.0|   N|                Y|\n",
            "|R156HBTMUSEM88|          5|           48|       49.0|   N|                Y|\n",
            "|R2X1UHSW9KUBES|          5|           22|       22.0|   N|                Y|\n",
            "| RO32P11MHPMI3|          5|           24|       24.0|   N|                Y|\n",
            "|R1Y8ARYNAB7PC0|          5|           19|       20.0|   N|                N|\n",
            "|R1QSB09EOREALQ|          4|           29|       32.0|   N|                Y|\n",
            "|R1BQ8BDCIV9ONZ|          5|           44|       50.0|   N|                Y|\n",
            "|R18638HIUF6XNR|          3|           22|       23.0|   N|                N|\n",
            "|  R1EHNRX9BMLK|          5|           19|       20.0|   N|                Y|\n",
            "|R26L79OMEJLULL|          5|           32|       36.0|   N|                Y|\n",
            "| RQLV8G3M9ZOT2|          5|           22|       23.0|   N|                N|\n",
            "+--------------+-----------+-------------+-----------+----+-----------------+\n",
            "only showing top 20 rows\n",
            "\n"
          ],
          "name": "stdout"
        }
      ]
    },
    {
      "cell_type": "code",
      "metadata": {
        "id": "8Q7MqmoranxF",
        "colab": {
          "base_uri": "https://localhost:8080/"
        },
        "outputId": "5ae954ac-ccd8-4612-9459-72039a48dee3"
      },
      "source": [
        "# Filter for only reviews made by members of the Vine Program \n",
        "y_vine_df = helpful_df.filter(helpful_df.vine == 'Y')\n",
        "y_vine_df.show(5)"
      ],
      "execution_count": 12,
      "outputs": [
        {
          "output_type": "stream",
          "text": [
            "+--------------+-----------+-------------+-----------+----+-----------------+\n",
            "|     review_id|star_rating|helpful_votes|total_votes|vine|verified_purchase|\n",
            "+--------------+-----------+-------------+-----------+----+-----------------+\n",
            "| R6U9701C3BGO6|          3|          139|      147.0|   Y|                N|\n",
            "|R1XK3ALB45D7N4|          5|           33|       34.0|   Y|                N|\n",
            "|R1IZCSTLX81D6C|          5|           31|       33.0|   Y|                N|\n",
            "|R2C8NC8EQLH4JF|          3|           45|       48.0|   Y|                N|\n",
            "|R1JJ1YOJMOML1P|          5|           18|       21.0|   Y|                N|\n",
            "+--------------+-----------+-------------+-----------+----+-----------------+\n",
            "only showing top 5 rows\n",
            "\n"
          ],
          "name": "stdout"
        }
      ]
    },
    {
      "cell_type": "code",
      "metadata": {
        "id": "Aywm0FOtan9Q",
        "colab": {
          "base_uri": "https://localhost:8080/"
        },
        "outputId": "03cb1e4c-7761-4ec1-c272-13b082e0c66b"
      },
      "source": [
        "# Filter for only reviews NOT made by members of the Vine Program\n",
        "n_vine_df = helpful_df.filter(helpful_df.vine == 'N')\n",
        "n_vine_df.show(5)"
      ],
      "execution_count": 13,
      "outputs": [
        {
          "output_type": "stream",
          "text": [
            "+--------------+-----------+-------------+-----------+----+-----------------+\n",
            "|     review_id|star_rating|helpful_votes|total_votes|vine|verified_purchase|\n",
            "+--------------+-----------+-------------+-----------+----+-----------------+\n",
            "|R35PT06NWP7LDP|          5|           30|       32.0|   N|                N|\n",
            "| RQW4AFOG9MR4Z|          5|           51|       52.0|   N|                N|\n",
            "|R2SMUEBMGLAJQK|          5|           29|       36.0|   N|                Y|\n",
            "|R1XVIZZALU5P6J|          5|          148|      150.0|   N|                Y|\n",
            "|R11UFMG8M2488I|          4|           23|       26.0|   N|                N|\n",
            "+--------------+-----------+-------------+-----------+----+-----------------+\n",
            "only showing top 5 rows\n",
            "\n"
          ],
          "name": "stdout"
        }
      ]
    },
    {
      "cell_type": "code",
      "metadata": {
        "id": "uawkCpDHdGHV",
        "colab": {
          "base_uri": "https://localhost:8080/"
        },
        "outputId": "828be9d5-e4bf-4c30-c6a7-3ce16815757d"
      },
      "source": [
        "# Perform all calculations to determine possible bias- use count()\n",
        "from pyspark.sql.functions import count\n",
        "\n",
        "# Total Number of Reviews (Paid vs Unpaid)\n",
        "paid_total = y_vine_df.count()\n",
        "unpaid_total = n_vine_df.count()\n",
        "\n",
        "print(\"Total Number of  helpful, PAID Apparel Reviews: %f\" % paid_total)\n",
        "print(\"Total Number of helpful, UNPAID Apparel Reviews: %f\" % unpaid_total)"
      ],
      "execution_count": 14,
      "outputs": [
        {
          "output_type": "stream",
          "text": [
            "Total Number of  helpful, PAID Apparel Reviews: 33.000000\n",
            "Total Number of helpful, UNPAID Apparel Reviews: 45388.000000\n"
          ],
          "name": "stdout"
        }
      ]
    },
    {
      "cell_type": "code",
      "metadata": {
        "id": "FfDPVXAwhDdR",
        "colab": {
          "base_uri": "https://localhost:8080/"
        },
        "outputId": "6ed190f4-4f6c-45b8-b4cb-b584533a4186"
      },
      "source": [
        "# Total Number of 5-star reviews (Paid vs Unpaid )\n",
        "paid_5star = y_vine_df.filter(y_vine_df['star_rating'] == 5)\n",
        "unpaid_5star = n_vine_df.filter(n_vine_df['star_rating'] == 5)\n",
        "\n",
        "print(\"Number of 5-star helpful, PAID Apparel Reviews: %f\" % paid_5star.count())\n",
        "print(\" Number of 5-star helpful UNPAID Apparel Reviews: %f\" % unpaid_5star.count())"
      ],
      "execution_count": 18,
      "outputs": [
        {
          "output_type": "stream",
          "text": [
            "Number of 5-star helpful, PAID Apparel Reviews: 15.000000\n",
            " Number of 5-star helpful UNPAID Apparel Reviews: 23733.000000\n"
          ],
          "name": "stdout"
        }
      ]
    },
    {
      "cell_type": "code",
      "metadata": {
        "id": "sPPqS1u2h2_N",
        "colab": {
          "base_uri": "https://localhost:8080/"
        },
        "outputId": "2be86d12-95a3-4473-b215-d4f3356bfe1f"
      },
      "source": [
        "# Percentage of 5-star reviews (Paid vs Unpaid)\n",
        "paid_5star = paid_5star.count()\n",
        "unpaid_5star = unpaid_5star.count()\n",
        "\n",
        "paid_5star_percentage = (paid_5star/paid_total) * 100\n",
        "unpaid_5star_percentage = (unpaid_5star/unpaid_total) * 100\n",
        "print(\"Percentage of  5-star,  PAID Apparel Reviews: %f\" % paid_5star_percentage)\n",
        "print(\" Number of Helpful, 5-star UNPAID Apparel Reviews: %f\" % unpaid_5star_percentage)"
      ],
      "execution_count": 20,
      "outputs": [
        {
          "output_type": "stream",
          "text": [
            "Percentage of  5-star,  PAID Apparel Reviews: 45.454545\n",
            " Number of Helpful, 5-star UNPAID Apparel Reviews: 52.289151\n"
          ],
          "name": "stdout"
        }
      ]
    },
    {
      "cell_type": "markdown",
      "metadata": {
        "id": "rhUH5sdHDGh2"
      },
      "source": [
        "# Additional Analysis for Bias Determination"
      ]
    },
    {
      "cell_type": "code",
      "metadata": {
        "id": "LValLg4-DZHI"
      },
      "source": [
        "# Create Summary DataFrame for paid vs unpaid reviews \n"
      ],
      "execution_count": null,
      "outputs": []
    }
  ]
}